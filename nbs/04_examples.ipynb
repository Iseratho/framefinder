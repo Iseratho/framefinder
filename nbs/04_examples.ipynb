{
 "cells": [
  {
   "cell_type": "code",
   "execution_count": null,
   "id": "f54d374c-dc94-4069-bf4b-8b0e83871db6",
   "metadata": {},
   "outputs": [],
   "source": [
    "#| default_exp examples\n",
    "#| export\n",
    "\n",
    "candidate_labels = [\n",
    "    \"Economic: costs, benefits, or other financial implications\",\n",
    "    \"Capacity and resources: availability of physical, human or financial resources, and capacity of current systems\",\n",
    "    \"Morality: religious or ethical implications\",\n",
    "    \"Fairness and equality: balance or distribution of rights, responsibilities, and resources\",\n",
    "    \"Legality, constitutionality and jurisprudence: rights, freedoms, and authority of individuals, corporations, and government\",\n",
    "    \"Policy prescription and evaluation: discussion of specific policies aimed at addressing problems\",\n",
    "    \"Crime and punishment: effectiveness and implications of laws and their enforcement\",\n",
    "    \"Security and defense: threats to welfare of the individual, community, or nation\",\n",
    "    \"Health and safety: health care, sanitation, public safety\",\n",
    "    \"Quality of life: threats and opportunities for the individual’s wealth, happiness, and well-being\",\n",
    "    \"Cultural identity: traditions, customs, or values of a social group in relation to a policy issue\",\n",
    "    \"Public opinion: attitudes and opinions of the general public, including polling and demographics\",\n",
    "    \"Political: considerations related to politics and politicians, including lobbying, elections, and attempts to sway voters\",\n",
    "    \"External regulation and reputation: international reputation or foreign policy of the U.S.\",\n",
    "    \"Other: any coherent group of frames not covered by the above categories\",\n",
    "]\n",
    "\n",
    "dimensions = [\n",
    "    \"Care: ...acted with kindness, compassion, or empathy, or nurtured another person.\",\n",
    "    \"Harm: ...acted with cruelty, or hurt or harmed another person/animal and caused suffering.\",\n",
    "    \"Fairness: ...acted in a fair manner, promoting equality, justice, or rights.\",\n",
    "    \"Cheating: ...was unfair or cheated, or caused an injustice or engaged in fraud.\",\n",
    "    \"Loyalty: ...acted with fidelity, or as a team player, or was loyal or patriotic.\",\n",
    "    \"Betrayal: ...acted disloyal, betrayed someone, was disloyal, or was a traitor.\",\n",
    "    \"Authority: ...obeyed, or acted with respect for authority or tradition.\",\n",
    "    \"Subversion: ...disobeyed or showed disrespect, or engaged in subversion or caused chaos.\",\n",
    "    \"Sanctity: ...acted in a way that was wholesome or sacred, or displayed purity or sanctity.\",\n",
    "    \"Degredation: ...was depraved, degrading, impure, or unnatural.\",\n",
    "]\n",
    "pole_names = [\n",
    "    (\"Care\", \"Harm\"), \n",
    "    (\"Fairness\", \"Cheating\"),\n",
    "    (\"Loyalty\", \"Betrayal\"),\n",
    "    (\"Authority\", \"Subversion\"),\n",
    "    (\"Sanctity\", \"Degredation\"),\n",
    "]\n",
    "\n",
    "example_list = [\"In 2010, CFCs were banned internationally due to their harmful effect on the ozone layer.\",\n",
    "                \"In 2021, doctors prevented the spread of the virus by vaccinating with Pfizer.\",\n",
    "                \"We must fight for our freedom.\",\n",
    "                \"The government prevents our freedom.\",\n",
    "                \"They prevent the spread.\",\n",
    "                \"We fight the virus.\",\n",
    "                \"I believe that we should act now.\\nThere is no time to waste.\",\n",
    "                ]"
   ]
  },
  {
   "cell_type": "code",
   "execution_count": null,
   "id": "2b8dbf1a-3717-40a3-900c-281a991fe1d3",
   "metadata": {},
   "outputs": [],
   "source": [
    "#| hide\n",
    "import nbdev; nbdev.nbdev_export()"
   ]
  },
  {
   "cell_type": "code",
   "execution_count": null,
   "id": "cdd27bcf-6077-4123-8612-7a69e0114f28",
   "metadata": {},
   "outputs": [],
   "source": []
  }
 ],
 "metadata": {
  "kernelspec": {
   "display_name": "Python 3 (ipykernel)",
   "language": "python",
   "name": "python3"
  }
 },
 "nbformat": 4,
 "nbformat_minor": 5
}
